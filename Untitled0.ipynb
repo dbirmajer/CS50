{
  "nbformat": 4,
  "nbformat_minor": 0,
  "metadata": {
    "colab": {
      "name": "Untitled0.ipynb",
      "provenance": [],
      "toc_visible": true,
      "authorship_tag": "ABX9TyMliLKr4aff+sppD5cBUhI0",
      "include_colab_link": true
    },
    "kernelspec": {
      "name": "python3",
      "display_name": "Python 3"
    }
  },
  "cells": [
    {
      "cell_type": "markdown",
      "metadata": {
        "id": "view-in-github",
        "colab_type": "text"
      },
      "source": [
        "<a href=\"https://colab.research.google.com/github/dbirmajer/CS50/blob/master/Untitled0.ipynb\" target=\"_parent\"><img src=\"https://colab.research.google.com/assets/colab-badge.svg\" alt=\"Open In Colab\"/></a>"
      ]
    },
    {
      "cell_type": "markdown",
      "metadata": {
        "id": "GjAmdA77Z0Bt",
        "colab_type": "text"
      },
      "source": [
        "**Section 1: Immutable Data Structures**"
      ]
    },
    {
      "cell_type": "code",
      "metadata": {
        "id": "M1-N7ZS1Ziws",
        "colab_type": "code",
        "colab": {}
      },
      "source": [
        "from functools import reduce\n",
        "import collections\n",
        "import itertools\n",
        "\n",
        "# **Section 1: Immutable Data Structures**\n",
        "import collections\n",
        "from pprint import pprint\n",
        "\n",
        "Scientist = collections.namedtuple('Scientist', [\n",
        "    'name',\n",
        "    'field',\n",
        "    'born',\n",
        "    'nobel',\n",
        "])\n",
        "\n",
        "scientists = (\n",
        "    Scientist(name='Ada Lovelace', field='math', born=1815, nobel=False),\n",
        "    Scientist(name='Emmy Noether', field='math', born=1882, nobel=False),\n",
        "    Scientist(name='Marie Curie', field='physics', born=1867, nobel=True),\n",
        "    Scientist(name='Tu Youyou', field='chemistry', born=1930, nobel=True),\n",
        "    Scientist(name='Ada Yonath', field='chemistry', born=1939, nobel=True),\n",
        "    Scientist(name='Vera Rubin', field='astronomy', born=1928, nobel=False),\n",
        "    Scientist(name='Sally Ride', field='physics', born=1951, nobel=False),\n",
        ")"
      ],
      "execution_count": 0,
      "outputs": []
    },
    {
      "cell_type": "code",
      "metadata": {
        "id": "yf55MssFbMcJ",
        "colab_type": "code",
        "colab": {}
      },
      "source": [
        "pprint(scientists)"
      ],
      "execution_count": 0,
      "outputs": []
    },
    {
      "cell_type": "markdown",
      "metadata": {
        "id": "x0tVn8yxbUhM",
        "colab_type": "text"
      },
      "source": [
        "**Section 2: The filter()**\n"
      ]
    },
    {
      "cell_type": "code",
      "metadata": {
        "id": "s4FsIK_eagGv",
        "colab_type": "code",
        "colab": {
          "base_uri": "https://localhost:8080/",
          "height": 102
        },
        "outputId": "5d844247-c63a-450a-f8a7-f0b8c7342f37"
      },
      "source": [
        "fs = filter(lambda x: x.nobel, scientists)\n",
        "pprint(tuple(fs))\n",
        "print()\n",
        "pprint(tuple(filter(lambda x: x.nobel and x.field == 'physics' , scientists)))\n",
        "\n"
      ],
      "execution_count": 10,
      "outputs": [
        {
          "output_type": "stream",
          "text": [
            "(Scientist(name='Marie Curie', field='physics', born=1867, nobel=True),\n",
            " Scientist(name='Tu Youyou', field='chemistry', born=1930, nobel=True),\n",
            " Scientist(name='Ada Yonath', field='chemistry', born=1939, nobel=True))\n",
            "\n",
            "(Scientist(name='Marie Curie', field='physics', born=1867, nobel=True),)\n"
          ],
          "name": "stdout"
        }
      ]
    },
    {
      "cell_type": "code",
      "metadata": {
        "id": "5uTUykt6g96u",
        "colab_type": "code",
        "colab": {}
      },
      "source": [
        "def nobel_filter(x):\n",
        "    return x.nobel"
      ],
      "execution_count": 0,
      "outputs": []
    },
    {
      "cell_type": "code",
      "metadata": {
        "id": "8Gf3fgi7gwr-",
        "colab_type": "code",
        "colab": {
          "base_uri": "https://localhost:8080/",
          "height": 68
        },
        "outputId": "cc176011-3481-40c8-8e13-9dffab655760"
      },
      "source": [
        "pprint(tuple(filter(nobel_filter, scientists)))"
      ],
      "execution_count": 12,
      "outputs": [
        {
          "output_type": "stream",
          "text": [
            "(Scientist(name='Marie Curie', field='physics', born=1867, nobel=True),\n",
            " Scientist(name='Tu Youyou', field='chemistry', born=1930, nobel=True),\n",
            " Scientist(name='Ada Yonath', field='chemistry', born=1939, nobel=True))\n"
          ],
          "name": "stdout"
        }
      ]
    },
    {
      "cell_type": "code",
      "metadata": {
        "id": "GXmc1hHbgoNm",
        "colab_type": "code",
        "colab": {
          "base_uri": "https://localhost:8080/",
          "height": 68
        },
        "outputId": "bd2d1f8a-5103-4c45-e3fe-0fddd889ff70"
      },
      "source": [
        "pprint(tuple(x for x in scientists if x.nobel))"
      ],
      "execution_count": 13,
      "outputs": [
        {
          "output_type": "stream",
          "text": [
            "(Scientist(name='Marie Curie', field='physics', born=1867, nobel=True),\n",
            " Scientist(name='Tu Youyou', field='chemistry', born=1930, nobel=True),\n",
            " Scientist(name='Ada Yonath', field='chemistry', born=1939, nobel=True))\n"
          ],
          "name": "stdout"
        }
      ]
    },
    {
      "cell_type": "markdown",
      "metadata": {
        "id": "3y2DhPEyhcKx",
        "colab_type": "text"
      },
      "source": [
        "**Section 3: The map() Function**"
      ]
    },
    {
      "cell_type": "code",
      "metadata": {
        "id": "fH1KXG6zhqnE",
        "colab_type": "code",
        "colab": {}
      },
      "source": [
        "names_and_ages = tuple(map(lambda x: {'name': x.name, 'age': 2017 - x.born}, scientists))\n",
        "\n",
        "pprint(names_and_ages)\n",
        "\n",
        "pprint(tuple({'name': x.name, 'age': 2017 - x.born} for x in scientists))\n",
        "pprint(tuple({'name': x.name.upper(), 'age': 2017 - x.born} for x in scientists))\n"
      ],
      "execution_count": 0,
      "outputs": []
    },
    {
      "cell_type": "code",
      "metadata": {
        "id": "_Tp_CUALh32Q",
        "colab_type": "code",
        "colab": {}
      },
      "source": [
        ""
      ],
      "execution_count": 0,
      "outputs": []
    },
    {
      "cell_type": "markdown",
      "metadata": {
        "id": "zQEpW0Pwh6OT",
        "colab_type": "text"
      },
      "source": [
        "**Section 4: The reduce() Function**\n"
      ]
    },
    {
      "cell_type": "code",
      "metadata": {
        "id": "C1o_7gTMh8_O",
        "colab_type": "code",
        "colab": {}
      },
      "source": [
        ""
      ],
      "execution_count": 0,
      "outputs": []
    },
    {
      "cell_type": "markdown",
      "metadata": {
        "id": "gCUzrWhjiN8a",
        "colab_type": "text"
      },
      "source": [
        "# Section 4: The reduce() Function"
      ]
    },
    {
      "cell_type": "code",
      "metadata": {
        "id": "7dqfgUYoiTrx",
        "colab_type": "code",
        "colab": {}
      },
      "source": [
        "total_age = reduce(lambda accum, x: accum + x['age'], names_and_ages,0)\n",
        "print(total_age)\n",
        "print(sum(x['age'] for x in names_and_ages))\n",
        "\n",
        "\n",
        "def reducer(accum, val):\n",
        "    accum[val.field].append(val.name)\n",
        "    return accum\n",
        "pprint(reduce(reducer, scientists, collections.defaultdict(list)))\n",
        "\n",
        "scientists_by_field = {\n",
        "    item[0]: list(item[1])\n",
        "    for item in itertools.groupby(scientists, lambda x: x.field)\n",
        "}\n",
        "\n",
        "print(list(itertools.groupby(scientists, lambda x: x.field)))\n",
        "pprint(scientists_by_field)\n"
      ],
      "execution_count": 0,
      "outputs": []
    },
    {
      "cell_type": "markdown",
      "metadata": {
        "id": "64JOqlHQig6b",
        "colab_type": "text"
      },
      "source": [
        "# Section 5: Parallel Processing With multiprocessing"
      ]
    },
    {
      "cell_type": "code",
      "metadata": {
        "id": "CScLlKIkikc9",
        "colab_type": "code",
        "colab": {}
      },
      "source": [
        "import time\n",
        "import multiprocessing\n",
        "import os\n",
        "\n",
        "def transform(x):\n",
        "    print(f'Process {os.getpid()} working record {x.name}')\n",
        "    #print(f'Processing record {x.name}')\n",
        "    time.sleep(1) #sleeps one second\n",
        "    result = {'name': x.name, 'age': 2017 - x.born}\n",
        "    #print(f'Done Processing record {x.name}')\n",
        "    print(f'Process {os.getpid()} done processing record {x.name}')    \n",
        "    return result\n"
      ],
      "execution_count": 0,
      "outputs": []
    },
    {
      "cell_type": "code",
      "metadata": {
        "id": "yjT3RGQoi6s4",
        "colab_type": "code",
        "colab": {
          "base_uri": "https://localhost:8080/",
          "height": 408
        },
        "outputId": "01242c9d-8a53-4e6c-ee5e-b2a244f1bf8b"
      },
      "source": [
        "start = time.time()    \n",
        "result = tuple(map(transform, scientists)) # sequential version\n",
        "end = time.time()\n",
        "print(f'Time to complete in sequential version: {end - start:.2f}s\\n')\n",
        "pprint(result)"
      ],
      "execution_count": 17,
      "outputs": [
        {
          "output_type": "stream",
          "text": [
            "Process 123 working record Ada Lovelace\n",
            "Process 123 done processing record Ada Lovelace\n",
            "Process 123 working record Emmy Noether\n",
            "Process 123 done processing record Emmy Noether\n",
            "Process 123 working record Marie Curie\n",
            "Process 123 done processing record Marie Curie\n",
            "Process 123 working record Tu Youyou\n",
            "Process 123 done processing record Tu Youyou\n",
            "Process 123 working record Ada Yonath\n",
            "Process 123 done processing record Ada Yonath\n",
            "Process 123 working record Vera Rubin\n",
            "Process 123 done processing record Vera Rubin\n",
            "Process 123 working record Sally Ride\n",
            "Process 123 done processing record Sally Ride\n",
            "Time to complete in sequential version: 7.01s\n",
            "\n",
            "({'age': 202, 'name': 'Ada Lovelace'},\n",
            " {'age': 135, 'name': 'Emmy Noether'},\n",
            " {'age': 150, 'name': 'Marie Curie'},\n",
            " {'age': 87, 'name': 'Tu Youyou'},\n",
            " {'age': 78, 'name': 'Ada Yonath'},\n",
            " {'age': 89, 'name': 'Vera Rubin'},\n",
            " {'age': 66, 'name': 'Sally Ride'})\n"
          ],
          "name": "stdout"
        }
      ]
    },
    {
      "cell_type": "code",
      "metadata": {
        "id": "QI6QMkXzi45j",
        "colab_type": "code",
        "colab": {
          "base_uri": "https://localhost:8080/",
          "height": 289
        },
        "outputId": "122a8d00-207a-4051-ff6b-0d5953ff6b43"
      },
      "source": [
        "pool = multiprocessing.Pool()\n",
        "start = time.time()    \n",
        "result = pool.map(transform, scientists) # parallel version\n",
        "end = time.time()\n",
        "print(f'Time to complete in parallel version: {end - start:.2f}s\\n')"
      ],
      "execution_count": 18,
      "outputs": [
        {
          "output_type": "stream",
          "text": [
            "Process 848 working record Ada Lovelace\n",
            "Process 849 working record Emmy Noether\n",
            "Process 849 done processing record Emmy Noether\n",
            "Process 849 working record Marie Curie\n",
            "Process 848 done processing record Ada Lovelace\n",
            "Process 848 working record Tu Youyou\n",
            "Process 849 done processing record Marie Curie\n",
            "Process 849 working record Ada Yonath\n",
            "Process 848 done processing record Tu Youyou\n",
            "Process 848 working record Vera Rubin\n",
            "Process 849 done processing record Ada Yonath\n",
            "Process 848 done processing record Vera Rubin\n",
            "Process 848 working record Sally Ride\n",
            "Process 848 done processing record Sally Ride\n",
            "Time to complete in parallel version: 4.04s\n",
            "\n"
          ],
          "name": "stdout"
        }
      ]
    },
    {
      "cell_type": "code",
      "metadata": {
        "id": "UeaY7TGdjJ2N",
        "colab_type": "code",
        "colab": {
          "base_uri": "https://localhost:8080/",
          "height": 289
        },
        "outputId": "bf9e06b7-d858-49c3-93aa-b780b203ea24"
      },
      "source": [
        "pool = multiprocessing.Pool(processes=len(scientists))\n",
        "start = time.time()    \n",
        "result = pool.map(transform, scientists) # parallel version\n",
        "end = time.time()\n",
        "print(f'Time to complete in parallel version: {end - start:.2f}s\\n')"
      ],
      "execution_count": 19,
      "outputs": [
        {
          "output_type": "stream",
          "text": [
            "Process 897 working record Ada Lovelace\n",
            "Process 899 working record Tu Youyou\n",
            "Process 896 working record Emmy Noether\n",
            "Process 901 working record Vera Rubin\n",
            "Process 898 working record Marie Curie\n",
            "Process 900 working record Ada Yonath\n",
            "Process 902 working record Sally Ride\n",
            "Process 897 done processing record Ada Lovelace\n",
            "Process 899 done processing record Tu Youyou\n",
            "Process 901 done processing record Vera Rubin\n",
            "Process 898 done processing record Marie Curie\n",
            "Process 896 done processing record Emmy Noether\n",
            "Process 900 done processing record Ada Yonath\n",
            "Process 902 done processing record Sally Ride\n",
            "Time to complete in parallel version: 1.03s\n",
            "\n"
          ],
          "name": "stdout"
        }
      ]
    },
    {
      "cell_type": "code",
      "metadata": {
        "id": "34UlAFKEjUqt",
        "colab_type": "code",
        "colab": {
          "base_uri": "https://localhost:8080/",
          "height": 289
        },
        "outputId": "6a45cd89-bb62-4676-d93d-baa2f672e46a"
      },
      "source": [
        "pool = multiprocessing.Pool(processes=2, maxtasksperchild=1)\n",
        "start = time.time()    \n",
        "result = pool.map(transform, scientists) # parallel version\n",
        "end = time.time()\n",
        "print(f'Time to complete in parallel version: {end - start:.2f}s\\n')"
      ],
      "execution_count": 20,
      "outputs": [
        {
          "output_type": "stream",
          "text": [
            "Process 952 working record Ada Lovelace\n",
            "Process 953 working record Emmy Noether\n",
            "Process 952 done processing record Ada Lovelace\n",
            "Process 953 done processing record Emmy Noether\n",
            "Process 965 working record Marie Curie\n",
            "Process 966 working record Tu Youyou\n",
            "Process 965 done processing record Marie Curie\n",
            "Process 966 done processing record Tu Youyou\n",
            "Process 975 working record Ada Yonath\n",
            "Process 977 working record Vera Rubin\n",
            "Process 975 done processing record Ada Yonath\n",
            "Process 977 done processing record Vera Rubin\n",
            "Process 985 working record Sally Ride\n",
            "Process 985 done processing record Sally Ride\n",
            "Time to complete in parallel version: 4.34s\n",
            "\n"
          ],
          "name": "stdout"
        }
      ]
    },
    {
      "cell_type": "code",
      "metadata": {
        "id": "WcVYwg70kVdW",
        "colab_type": "code",
        "colab": {}
      },
      "source": [
        "from google.colab import drive\n",
        "drive.mount('/content/drive')"
      ],
      "execution_count": 0,
      "outputs": []
    },
    {
      "cell_type": "code",
      "metadata": {
        "id": "Mtf5QENAjhP_",
        "colab_type": "code",
        "colab": {}
      },
      "source": [
        ""
      ],
      "execution_count": 0,
      "outputs": []
    }
  ]
}