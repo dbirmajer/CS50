{
  "nbformat": 4,
  "nbformat_minor": 0,
  "metadata": {
    "anaconda-cloud": {
      "environment": null,
      "summary": "Project Euler -- Problem 1"
    },
    "kernelspec": {
      "display_name": "Python 3",
      "language": "python",
      "name": "python3"
    },
    "language_info": {
      "codemirror_mode": {
        "name": "ipython",
        "version": 3
      },
      "file_extension": ".py",
      "mimetype": "text/x-python",
      "name": "python",
      "nbconvert_exporter": "python",
      "pygments_lexer": "ipython3",
      "version": "3.6.3"
    },
    "colab": {
      "name": "euler_01.ipynb",
      "provenance": [],
      "collapsed_sections": [],
      "include_colab_link": true
    }
  },
  "cells": [
    {
      "cell_type": "markdown",
      "metadata": {
        "id": "view-in-github",
        "colab_type": "text"
      },
      "source": [
        "<a href=\"https://colab.research.google.com/github/dbirmajer/CS50/blob/master/euler_01.ipynb\" target=\"_parent\"><img src=\"https://colab.research.google.com/assets/colab-badge.svg\" alt=\"Open In Colab\"/></a>"
      ]
    },
    {
      "cell_type": "markdown",
      "metadata": {
        "deletable": true,
        "editable": true,
        "id": "do94RrWbTYC6",
        "colab_type": "text"
      },
      "source": [
        "# Multiples of 3 and 5 "
      ]
    },
    {
      "cell_type": "markdown",
      "metadata": {
        "deletable": true,
        "editable": true,
        "id": "2rhxJSaCTYC7",
        "colab_type": "text"
      },
      "source": [
        "## Problem 1"
      ]
    },
    {
      "cell_type": "markdown",
      "metadata": {
        "deletable": true,
        "editable": true,
        "id": "CKgURCR4TYC8",
        "colab_type": "text"
      },
      "source": [
        "If we list all the natural numbers below 10 that are multiples of 3 or 5, we\n",
        "get 3; 5; 6 and 9. The sum of these multiples is 23. Find the sum of all the multiples of 3 or 5\n",
        "below 1000."
      ]
    },
    {
      "cell_type": "code",
      "metadata": {
        "deletable": true,
        "editable": true,
        "id": "Px2fE_siTYC9",
        "colab_type": "code",
        "colab": {}
      },
      "source": [
        "import time"
      ],
      "execution_count": 0,
      "outputs": []
    },
    {
      "cell_type": "code",
      "metadata": {
        "deletable": true,
        "editable": true,
        "id": "I7X8FBxDTYDA",
        "colab_type": "code",
        "colab": {}
      },
      "source": [
        "def euler_01 (n):\n",
        "    return sum(filter(lambda x: (x % 5)*(x % 3)== 0, range(n)))"
      ],
      "execution_count": 0,
      "outputs": []
    },
    {
      "cell_type": "code",
      "metadata": {
        "deletable": true,
        "editable": true,
        "id": "BWsTQLoZTYDC",
        "colab_type": "code",
        "outputId": "8899e634-488e-48c3-904e-36b310330e8a",
        "colab": {
          "base_uri": "https://localhost:8080/",
          "height": 68
        }
      },
      "source": [
        "start = time.time()    \n",
        "result = euler_01(1000) # sequential version\n",
        "end = time.time()\n",
        "print(f'The result is {result}')\n",
        "print(f'Time to complete in sequential version: {end - start:.4f}s\\n')"
      ],
      "execution_count": 0,
      "outputs": [
        {
          "output_type": "stream",
          "text": [
            "The result is 233168\n",
            "Time to complete in sequential version: 0.0004s\n",
            "\n"
          ],
          "name": "stdout"
        }
      ]
    }
  ]
}